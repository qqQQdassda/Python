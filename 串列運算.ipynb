{
 "cells": [
  {
   "cell_type": "code",
   "execution_count": 2,
   "metadata": {},
   "outputs": [
    {
     "name": "stdout",
     "output_type": "stream",
     "text": [
      "請輸入攝氏溫度：50\n",
      "華氏溫度是： 90.0\n"
     ]
    }
   ],
   "source": [
    "celsius = input(\"請輸入攝氏溫度：\")\n",
    "fahrenheit = 9/5 * int(celsius)\n",
    "print(\"華氏溫度是：\",fahrenheit)"
   ]
  },
  {
   "cell_type": "code",
   "execution_count": 13,
   "metadata": {},
   "outputs": [
    {
     "name": "stdout",
     "output_type": "stream",
     "text": [
      "樣本 [5, 6, 7, 9, 1, 2, 3, 5, 4]\n",
      "平均值： 4.666666666666667\n",
      "最大值： 9\n",
      "最小值： 1\n",
      "變異數： 6.25\n",
      "標準差： 2.5\n"
     ]
    }
   ],
   "source": [
    "import  statistics as st\n",
    "sample=[5,6,7,9,1,2,3,5,4]\n",
    "print(\"樣本\",sample)\n",
    "print(\"平均值：\", st.mean(sample))\n",
    "print(\"最大值：\", max(sample))\n",
    "print(\"最小值：\", min(sample))\n",
    "print(\"變異數：\", round(st.variance(sample),2))\n",
    "print(\"標準差：\", round(st.stdev(sample),2))\n"
   ]
  },
  {
   "cell_type": "code",
   "execution_count": 17,
   "metadata": {},
   "outputs": [
    {
     "name": "stdout",
     "output_type": "stream",
     "text": [
      "b比較大\n"
     ]
    }
   ],
   "source": [
    "#python 對於縮排非常嚴謹\n",
    "a = 3\n",
    "b = 4\n",
    "if a<=b:\n",
    "    print(\"b比較大\")\n",
    "else:\n",
    "    print(\"a比較大\")"
   ]
  },
  {
   "cell_type": "code",
   "execution_count": 24,
   "metadata": {},
   "outputs": [
    {
     "name": "stdout",
     "output_type": "stream",
     "text": [
      "總數為： 55\n"
     ]
    }
   ],
   "source": [
    "sum = 0\n",
    "for count in range(1,11,1):  # 1-10\n",
    "#for count in range(11):     # 0-10\n",
    "    sum += count\n",
    "\n",
    "print(\"總數為：\",sum)"
   ]
  },
  {
   "cell_type": "code",
   "execution_count": 25,
   "metadata": {},
   "outputs": [
    {
     "name": "stdout",
     "output_type": "stream",
     "text": [
      "l\n",
      "i\n",
      "s\n",
      "t\n",
      " \n",
      "s\n",
      "t\n",
      "a\n",
      "t\n",
      "e\n",
      "m\n",
      "e\n",
      "n\n",
      "t\n",
      "end\n"
     ]
    }
   ],
   "source": [
    "mylist =\"list statement\"\n",
    "for word in mylist:\n",
    "    print(word)\n",
    "else:\n",
    "    print(\"end\")"
   ]
  },
  {
   "cell_type": "code",
   "execution_count": 5,
   "metadata": {},
   "outputs": [
    {
     "name": "stdout",
     "output_type": "stream",
     "text": [
      "雞有 23 隻,兔子有 12 隻\n"
     ]
    }
   ],
   "source": [
    "#雞兔同籠。若共有35個頭，94隻腳，問共有幾隻雞?幾隻兔?\n",
    "for chicken in range(0,36):\n",
    "    rabbit = 35-chicken\n",
    "    if (2*chicken + 4*rabbit) == 94:\n",
    "        print(\"雞有\",chicken,\"隻,兔子有\",rabbit,\"隻\")\n",
    "        break\n",
    "else:\n",
    "    print(\"無解\")"
   ]
  },
  {
   "cell_type": "code",
   "execution_count": 4,
   "metadata": {},
   "outputs": [
    {
     "name": "stdout",
     "output_type": "stream",
     "text": [
      "1+2+3+...+10的總和為: 55\n"
     ]
    }
   ],
   "source": [
    "#while迴圈\n",
    "sum = 0\n",
    "count = 0\n",
    "while count <= 10:\n",
    "    sum += count\n",
    "    count += 1\n",
    "print(\"1+2+3+...+10的總和為:\",sum)"
   ]
  },
  {
   "cell_type": "code",
   "execution_count": 8,
   "metadata": {},
   "outputs": [
    {
     "name": "stdout",
     "output_type": "stream",
     "text": [
      "37 年後本金會變成 20065\n"
     ]
    }
   ],
   "source": [
    "#本金10000元，年利率1.9%，請問多久銀行存款會加倍\n",
    "year = 0\n",
    "x = 10000\n",
    "while x <= 20000:\n",
    "    x = x*1.019\n",
    "    year += 1\n",
    "print(year,\"年後本金會變成\",int(x))"
   ]
  },
  {
   "cell_type": "code",
   "execution_count": 9,
   "metadata": {},
   "outputs": [
    {
     "name": "stdout",
     "output_type": "stream",
     "text": [
      "請輸入1~5的數字2\n",
      "猜錯了\n",
      "請輸入1~5的數字3\n",
      "猜對了\n"
     ]
    }
   ],
   "source": [
    "# 猜數字\n",
    "import random\n",
    "number = random.randint(1,5)\n",
    "while True:\n",
    "    guess = int(input(\"請輸入1~5的數字\"))\n",
    "    if guess == number:\n",
    "        print(\"猜對了\")\n",
    "        break\n",
    "    else:\n",
    "        print(\"猜錯了\")"
   ]
  },
  {
   "cell_type": "code",
   "execution_count": 11,
   "metadata": {},
   "outputs": [
    {
     "name": "stdout",
     "output_type": "stream",
     "text": [
      "python\n",
      "JS\n",
      "SQL\n",
      "SQL\n",
      "JS\n",
      "java\n",
      "4\n",
      "['python', 'JS', 'SQL', 'java']\n",
      "['c#', 'python', 'JS', 'SQL', 'java']\n",
      "['c#', 'python', 'JS', 'SQL']\n",
      "['python', 'JS', 'SQL']\n"
     ]
    }
   ],
   "source": [
    "my_list = []\n",
    "my_list1 = list()\n",
    "my_list2 = [\"python\",\"JS\",\"SQL\"]\n",
    "print(my_list2[0])\n",
    "print(my_list2[1])\n",
    "print(my_list2[2])\n",
    "print(my_list2[-1])\n",
    "print(my_list2[-2])\n",
    "my_list2.append(\"java\")\n",
    "print(my_list2[-1])\n",
    "print(len(my_list2))\n",
    "print(my_list2)\n",
    "my_list2.insert(0,\"c#\")\n",
    "print(my_list2)\n",
    "del my_list2[-1]\n",
    "print(my_list2)\n",
    "my_list2.remove(\"c#\")\n",
    "print(my_list2)\n"
   ]
  },
  {
   "cell_type": "code",
   "execution_count": 1,
   "metadata": {},
   "outputs": [
    {
     "name": "stdout",
     "output_type": "stream",
     "text": [
      "['python', 'js', 'SQL']\n"
     ]
    }
   ],
   "source": [
    "#list 串列\n",
    "my_list1 = []\n",
    "my_list2 = list()\n",
    "my_list2 = ['python','js','SQL']\n",
    "print(my_list2)"
   ]
  },
  {
   "cell_type": "code",
   "execution_count": 2,
   "metadata": {},
   "outputs": [
    {
     "name": "stdout",
     "output_type": "stream",
     "text": [
      "['python', 'js']\n"
     ]
    }
   ],
   "source": [
    "#刪除\n",
    "languages = ['python','js','go']\n",
    "del languages[-1]\n",
    "print(languages)"
   ]
  },
  {
   "cell_type": "code",
   "execution_count": 4,
   "metadata": {},
   "outputs": [
    {
     "name": "stdout",
     "output_type": "stream",
     "text": [
      "True\n",
      "False\n",
      "['python', 'js', 'go', 'python', 'js', 'go', 'python', 'js', 'go', 'python', 'js', 'go', 'python', 'js', 'go']\n"
     ]
    }
   ],
   "source": [
    "a = ['python','js','go']\n",
    "print('python' in a)\n",
    "print('java' in a)\n",
    "\n",
    "print(a*5)"
   ]
  },
  {
   "cell_type": "code",
   "execution_count": 6,
   "metadata": {},
   "outputs": [
    {
     "name": "stdout",
     "output_type": "stream",
     "text": [
      "[1, 2, 3]\n",
      "[1, 3, 5, 7, 9]\n",
      "[1, 2, 3, 4, 5, 6, 7]\n",
      "1\n",
      "7\n",
      "0\n",
      "1\n",
      "[7, 6, 5, 4, 3, 2, 1]\n",
      "[1, 2, 3, 4, 5, 6, 7]\n"
     ]
    }
   ],
   "source": [
    "a = [1,2,3,4,5,6,7,8,9]\n",
    "b = a[0:3] #範圍取值\n",
    "print(b)\n",
    "c = a[0:9:2] #間隔取值\n",
    "print(c)\n",
    "del a[7:9]\n",
    "print(a)\n",
    "print(min(a)) #取最小值\n",
    "print(max(a)) #取最大值\n",
    "print(a.index(1)) #1出現的索引值\n",
    "print(a.count(1)) #1出現的次數\n",
    "a.reverse() #a的反轉\n",
    "print(a)\n",
    "a.sort() #a的串列排序\n",
    "print(a)\n"
   ]
  },
  {
   "cell_type": "code",
   "execution_count": null,
   "metadata": {},
   "outputs": [],
   "source": []
  }
 ],
 "metadata": {
  "kernelspec": {
   "display_name": "Python 3",
   "language": "python",
   "name": "python3"
  },
  "language_info": {
   "codemirror_mode": {
    "name": "ipython",
    "version": 3
   },
   "file_extension": ".py",
   "mimetype": "text/x-python",
   "name": "python",
   "nbconvert_exporter": "python",
   "pygments_lexer": "ipython3",
   "version": "3.6.4"
  }
 },
 "nbformat": 4,
 "nbformat_minor": 2
}
