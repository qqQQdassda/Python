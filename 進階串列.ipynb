{
 "cells": [
  {
   "cell_type": "code",
   "execution_count": 3,
   "metadata": {},
   "outputs": [
    {
     "name": "stdout",
     "output_type": "stream",
     "text": [
      "[1, 2, 3, 4, 5, 6, 7]\n",
      "(1, 2, 3, 4, 5, 6, 7)\n",
      "1\n"
     ]
    }
   ],
   "source": [
    "a = [1,2,3,4,5,6,7]\n",
    "a_tuple = tuple(a)\n",
    "print(a)\n",
    "print(a_tuple)\n",
    "print(a_tuple[0])"
   ]
  },
  {
   "cell_type": "code",
   "execution_count": 4,
   "metadata": {},
   "outputs": [
    {
     "name": "stdout",
     "output_type": "stream",
     "text": [
      "('python', 'js', 'go')\n",
      "python\n"
     ]
    }
   ],
   "source": [
    "a_list =['python','js','go']\n",
    "a_tuple = tuple(a_list)\n",
    "print(a_tuple)\n",
    "print(a_tuple[0])"
   ]
  },
  {
   "cell_type": "code",
   "execution_count": 14,
   "metadata": {},
   "outputs": [
    {
     "name": "stdout",
     "output_type": "stream",
     "text": [
      "tony\n",
      "20\n",
      "python\n",
      "dict_keys(['name', 'age', 'sex', 'height', 'weight'])\n",
      "dict_values(['tony', 20, 'M', 170, 55])\n",
      "dict_items([('name', 'tony'), ('age', 20), ('sex', 'M'), ('height', 170), ('weight', 55)])\n",
      "{'name': 'tony', 'age': 20, 'sex': 'M', 'height': 170, 'wieght': 55}\n"
     ]
    }
   ],
   "source": [
    "#dictionary(簡稱dict)，是含有key(鍵值)的串列(list)\n",
    "person_dict = {'name':'tony','age':20,'sex':'M','height':170,'weight':55}\n",
    "print(person_dict['name'])\n",
    "print(person_dict['age'])\n",
    "a_list= ['python','java','vb']\n",
    "a_dict= {0:'python',1:'java',2:'vb'}\n",
    "print(a_dict[0])\n",
    "print(person_dict.keys())\n",
    "print(person_dict.values())\n",
    "print(person_dict.items())\n",
    "a=['name','age','sex','height','wieght']\n",
    "b=['tony',20,'M',170,55]\n",
    "ab_dict = dict(zip(a,b)) #兩個list組合而成(dictionaty)\n",
    "print(ab_dict)"
   ]
  },
  {
   "cell_type": "code",
   "execution_count": null,
   "metadata": {},
   "outputs": [],
   "source": []
  }
 ],
 "metadata": {
  "kernelspec": {
   "display_name": "Python 3",
   "language": "python",
   "name": "python3"
  },
  "language_info": {
   "codemirror_mode": {
    "name": "ipython",
    "version": 3
   },
   "file_extension": ".py",
   "mimetype": "text/x-python",
   "name": "python",
   "nbconvert_exporter": "python",
   "pygments_lexer": "ipython3",
   "version": "3.6.4"
  }
 },
 "nbformat": 4,
 "nbformat_minor": 2
}
